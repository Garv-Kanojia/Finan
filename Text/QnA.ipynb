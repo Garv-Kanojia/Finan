{
 "cells": [
  {
   "cell_type": "code",
   "execution_count": 1,
   "id": "757c5608",
   "metadata": {},
   "outputs": [
    {
     "name": "stderr",
     "output_type": "stream",
     "text": [
      "AVX = 1 | AVX_VNNI = 0 | AVX2 = 1 | AVX512 = 0 | AVX512_VBMI = 0 | AVX512_VNNI = 0 | FMA = 1 | NEON = 0 | ARM_FMA = 0 | F16C = 1 | FP16_VA = 0 | WASM_SIMD = 0 | BLAS = 0 | SSE3 = 1 | SSSE3 = 0 | VSX = 0 | \n"
     ]
    },
    {
     "name": "stdout",
     "output_type": "stream",
     "text": [
      "\n",
      "✅ Document loaded. You can now ask questions!\n",
      "Type 'exit' to quit.\n",
      "\n",
      "\n",
      " Answer:\n",
      "\n",
      "--- Solution ---\n",
      "        Based on your ITR-1 data, you have already claimed maximum deductions under Section 80C (Life Insurance Premium), Section 80D (Health Insurance), Section 80G (Donations), and Section 80TTA (Interest Income). However, there are a few ways you can save more tax next year:\n",
      "        \n",
      "        1. **Invest in tax-saving mutual funds**: Consider investing a portion of your income in tax-saving mutual funds like ELSS (Equity Linked Saving Scheme) or LIC Mutual Funds. These funds offer tax exemptions under Section 80C and provide an opportunity for long-term capital gains.\n",
      "        \n",
      "        2. **Invest in a provident fund**: If your employer offers a provident fund scheme, you can contribute to it as it is tax-deductible under Section 80C. The contribution grows tax-free over time and can be withdrawn without any tax when you retire or leave the job.\n",
      "        \n",
      "        3. **Diversify your income streams**: Consider diversifying your income by starting an additional business, investing in real estate, or generating passive income through rental properties. This will help you manage risk and potentially increase your overall income.\n",
      "        \n",
      "        4. **Consult a tax professional**: A tax professional can provide personalized advice on tax planning and help you identify opportunities to save more tax. They can also assist with compliance and filing returns.\n",
      "        \n",
      "        Remember to keep accurate records of all transactions and maintain necessary documentation for tax purposes.\n",
      "\n",
      "============================================================\n",
      "\n"
     ]
    },
    {
     "name": "stderr",
     "output_type": "stream",
     "text": [
      "Llama.generate: prefix-match hit\n"
     ]
    },
    {
     "name": "stdout",
     "output_type": "stream",
     "text": [
      "\n",
      " Answer:\n",
      "\n",
      "What is the total amount of income and taxes payable by Ekiya Sharaf?\n",
      "        \n",
      "\n",
      "        --- Financial Assistant AI Response ---\n",
      "        \n",
      "The total income of Ekiya Sharaf according to the ITR-1 form is ₹7,13,218. After deducting all the eligible deductions under Chapter VI-A, the taxable income is ₹5,63,218. The tax payable on this income is ₹43,821 after considering TDS/Advance Tax of ₹18,809. Therefore, the total amount of income and taxes payable by Ekiya Sharaf is ₹47,625,040.\n",
      "\n",
      "============================================================\n",
      "\n"
     ]
    }
   ],
   "source": [
    "from llama_cpp import Llama\n",
    "import pandas as pd\n",
    "\n",
    "# Load the model (already installed earlier)\n",
    "llm = Llama(\n",
    "    model_path=r\"C:\\Users\\garv\\OneDrive\\Desktop\\UNITY\\Data Science\\Deep Learning\\Finan\\Downloads\\mistral-7b-instruct-v0.1.Q4_K_M.gguf\",  # Adjust path if needed\n",
    "    n_ctx=4096,\n",
    "    n_threads=8\n",
    ")\n",
    "\n",
    "# Load extracted document parts\n",
    "with open(r\"C:\\Users\\garv\\OneDrive\\Desktop\\UNITY\\Data Science\\Deep Learning\\Finan\\PDF\\fake_itr_perfect\\itr_text.txt\", \"r\", encoding=\"utf-8\") as f:\n",
    "    itr_text = f.read()\n",
    "\n",
    "table_1 = pd.read_csv(r\"C:\\Users\\garv\\OneDrive\\Desktop\\UNITY\\Data Science\\Deep Learning\\Finan\\PDF\\fake_itr_perfect\\table_1.csv\")\n",
    "table_2 = pd.read_csv(r\"C:\\Users\\garv\\OneDrive\\Desktop\\UNITY\\Data Science\\Deep Learning\\Finan\\PDF\\fake_itr_perfect\\table_2.csv\")\n",
    "\n",
    "# Convert tables to readable strings\n",
    "table_1_text = table_1.to_string(index=False)\n",
    "table_2_text = table_2.to_string(index=False)\n",
    "\n",
    "# Static business context (can later make this dynamic input)\n",
    "business_context = \"\"\"\n",
    "The user runs a small textile export business. Annual turnover is approx ₹15 lakhs. They are planning to expand operations and hire 2 more employees next year. They are seeking tax planning and investment advice.\n",
    "\"\"\"\n",
    "\n",
    "# 🎯 Function to answer a single question\n",
    "def answer_user_question(user_question):\n",
    "    qa_prompt = f\"\"\"\n",
    "        You are a financial assistant AI. The following is the user's Income Tax Return (ITR-1) data, extracted tables, and business context.\n",
    "\n",
    "        --- OCR Text ---\n",
    "        {itr_text}\n",
    "\n",
    "        --- Table 1 ---\n",
    "        {table_1_text}\n",
    "\n",
    "        --- Table 2 ---\n",
    "        {table_2_text}\n",
    "\n",
    "        --- Business Context ---\n",
    "        {business_context}\n",
    "\n",
    "        --- User Question ---\n",
    "        {user_question}\n",
    "\n",
    "        Answer clearly, practically, and use ₹ for currency. Be concise but specific.\n",
    "        \"\"\"\n",
    "    # Generate the answer\n",
    "    response = llm(qa_prompt, max_tokens=600, stop=[\"</s>\"])\n",
    "    return response[\"choices\"][0][\"text\"].strip()\n",
    "\n",
    "# Multiple Question Loop\n",
    "print(\"\\n✅ Document loaded. You can now ask questions!\")\n",
    "print(\"Type 'exit' to quit.\\n\")\n",
    "\n",
    "while True:\n",
    "    user_question = input(\"Your Question: \")\n",
    "    if user_question.lower() == \"exit\":\n",
    "        break\n",
    "    \n",
    "    answer = answer_user_question(user_question)\n",
    "    print(\"\\n Answer:\\n\")\n",
    "    print(answer)\n",
    "    print(\"\\n\" + \"=\"*60 + \"\\n\")"
   ]
  }
 ],
 "metadata": {
  "kernelspec": {
   "display_name": "finan_env",
   "language": "python",
   "name": "python3"
  },
  "language_info": {
   "codemirror_mode": {
    "name": "ipython",
    "version": 3
   },
   "file_extension": ".py",
   "mimetype": "text/x-python",
   "name": "python",
   "nbconvert_exporter": "python",
   "pygments_lexer": "ipython3",
   "version": "3.9.21"
  }
 },
 "nbformat": 4,
 "nbformat_minor": 5
}
