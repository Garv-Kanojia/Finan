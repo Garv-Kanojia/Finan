{
 "cells": [
  {
   "cell_type": "code",
   "execution_count": 1,
   "id": "4eca5cec",
   "metadata": {},
   "outputs": [],
   "source": [
    "# Read text\n",
    "with open(r\"C:\\Users\\garv\\OneDrive\\Desktop\\UNITY\\Data Science\\Deep Learning\\Finan\\PDF\\fake_itr_perfect\\itr_text.txt\", \"r\", encoding=\"utf-8\") as f:\n",
    "    itr_text = f.read()\n",
    "\n",
    "# Read tables\n",
    "import pandas as pd\n",
    "table_1 = pd.read_csv(r\"C:\\Users\\garv\\OneDrive\\Desktop\\UNITY\\Data Science\\Deep Learning\\Finan\\PDF\\fake_itr_perfect\\table_1.csv\")\n",
    "table_2 = pd.read_csv(r\"C:\\Users\\garv\\OneDrive\\Desktop\\UNITY\\Data Science\\Deep Learning\\Finan\\PDF\\fake_itr_perfect\\table_2.csv\")\n",
    "\n",
    "# Convert tables to readable text\n",
    "table_1_text = table_1.to_string(index=False)\n",
    "table_2_text = table_2.to_string(index=False)"
   ]
  },
  {
   "cell_type": "code",
   "execution_count": 2,
   "id": "2aa20902",
   "metadata": {},
   "outputs": [],
   "source": [
    "final_prompt = f\"\"\"\n",
    "You are a financial assistant AI. Analyze the following data extracted from a taxpayer's Income Tax Return (ITR-1). Summarize it professionally and concisely.\n",
    "\n",
    "======== OCR Text ========\n",
    "{itr_text}\n",
    "\n",
    "======== Table 1 ========\n",
    "{table_1.to_string(index=False)}\n",
    "\n",
    "======== Table 2 ========\n",
    "{table_2.to_string(index=False)}\n",
    "\n",
    "======== TASK ========\n",
    "Generate a clean, human-readable summary with the following structure:\n",
    "\n",
    "1. Personal Details  \n",
    "(Name, PAN, DOB, Gender, Aadhaar, Address)\n",
    "\n",
    "2. Income Summary  \n",
    "(Total Salary Income, Other Income sources)\n",
    "\n",
    "3. Deductions Overview  \n",
    "(Highlight deductions under 80C, 80D, 80G, etc.)\n",
    "\n",
    "4. Tax Computation  \n",
    "(Gross income, taxable income, total tax, rebate, final payable)\n",
    "\n",
    "5. Bank Account for Refund\n",
    "\n",
    "6. Filed By (Name, Date, Place)\n",
    "\n",
    "Format the output clearly. Do not repeat raw tables. Use ₹ for currency where appropriate.\n",
    "\"\"\"\n"
   ]
  },
  {
   "cell_type": "code",
   "execution_count": null,
   "id": "aa9c58c3",
   "metadata": {},
   "outputs": [
    {
     "name": "stderr",
     "output_type": "stream",
     "text": [
      "AVX = 1 | AVX_VNNI = 0 | AVX2 = 1 | AVX512 = 0 | AVX512_VBMI = 0 | AVX512_VNNI = 0 | FMA = 1 | NEON = 0 | ARM_FMA = 0 | F16C = 1 | FP16_VA = 0 | WASM_SIMD = 0 | BLAS = 0 | SSE3 = 1 | SSSE3 = 0 | VSX = 0 | \n"
     ]
    },
    {
     "name": "stdout",
     "output_type": "stream",
     "text": [
      "Summary:\n",
      "Personal Info:\n",
      "Name: John Smith\n",
      "Address: 123 Main St, Anytown USA\n",
      "Taxpayer Identification Number: 1234567890\n",
      "\n",
      "Income Details:\n",
      "Filing Status: Married Filing Jointly\n",
      "Gross Income: $100,000\n",
      "Net Income: $80,000\n",
      "\n",
      "Deductions:\n",
      "Standard Deduction: $12,000\n",
      "Child Tax Credit: $2,000\n",
      "Education Tax Credit: $1,500\n",
      "Total Deductions: $13,500\n",
      "\n",
      "Tax Position:\n",
      "Taxable Income: $66,500\n",
      "Tax Liability: $4,875\n",
      "\n",
      "...\n",
      "\n",
      "Summary:\n",
      "Personal Info:\n",
      "Name: John Smith\n",
      "Address: 123 Main St, Anytown USA\n",
      "Taxpayer Identification Number: 1234567890\n",
      "\n",
      "Income Details:\n",
      "Filing Status: Married Filing Jointly\n",
      "Gross Income: $100,000\n",
      "Net Income: $80,000\n",
      "\n",
      "Deductions:\n",
      "Standard Deduction: $12,000\n",
      "Child Tax Credit: $2,000\n",
      "Education Tax Credit: $1,500\n",
      "Total Deductions: $13,500\n",
      "\n",
      "Tax Position:\n",
      "Taxable Income: $66,500\n",
      "Tax Liability: $4,875\n",
      "\n",
      "The summary shows that John Smith is married and has a taxpayer identification number of 1234567890. He earned $100,000 in gross income and $80,000 in net income. John Smith claimed the standard deduction of $12,000, the child tax credit of $2,000, and an education tax credit of $1,500. The total deductions amounted to $13,500.\n",
      "\n",
      "Based on this information, John Smith's taxable income was $66,500 and his tax liability was $4,875.\n"
     ]
    }
   ],
   "source": [
    "from llama_cpp import Llama\n",
    "\n",
    "llm = Llama(\n",
    "    model_path=r\"C:\\Users\\garv\\OneDrive\\Desktop\\UNITY\\Data Science\\Deep Learning\\Finan\\Downloads\\mistral-7b-instruct-v0.1.Q4_K_M.gguf\",\n",
    "    n_ctx=4096,             # context window (token limit)\n",
    "    n_threads=8             # adjust based on your CPU cores\n",
    ")"
   ]
  },
  {
   "cell_type": "code",
   "execution_count": 5,
   "id": "c69df539",
   "metadata": {},
   "outputs": [
    {
     "name": "stderr",
     "output_type": "stream",
     "text": [
      "Llama.generate: prefix-match hit\n"
     ]
    },
    {
     "name": "stdout",
     "output_type": "stream",
     "text": [
      "======== Summary ========\n",
      "1. Personal Details  \n",
      "- Name: Ekiya Sharaf\n",
      "- PAN: AAAAA1244A\n",
      "- DOB: 23/04/1980\n",
      "- Gender: Female\n",
      "- Aadhaar: 1542622877\n",
      "- Address: H.No. 867, Sharaf Nagar, Patiala 823505\n",
      "\n",
      "2. Income Summary  \n",
      "- Total Salary Income: ₹574,518\n",
      "- Other Income sources: Interest from Savings Account (₹26,314), Fixed Deposits Interest (₹35,251), Dividend Income (₹13,532)\n",
      "\n",
      "3. Deductions Overview  \n",
      "- Under Section 80C: Life Insurance Premium (₹47,317), Health Insurance (₹16,658), and Donations (₹10,037).\n",
      "\n",
      "4. Tax Computation  \n",
      "- Gross income: ₹713,218\n",
      "- Deductions: ₹150,000\n",
      "- Taxable income: ₹563,218\n",
      "- Tax: ₹56,321\n",
      "- Rebate (87A): ₹12,500\n",
      "- Final payable: ₹43,821\n",
      "\n",
      "5. Bank Account for Refund  \n",
      "- Bank Name: ICICI Bank\n",
      "- Account Number: ETIU5571183372837\n",
      "- IFSC Code: YESB0549395317\n",
      "- Account Type: Current\n",
      "\n",
      "6. Filed By  \n",
      "- Name: Rajata Palla\n",
      "- Date: 15/07/1988\n",
      "- Place: Raebareli\n",
      "\n",
      "======== END ========\n"
     ]
    }
   ],
   "source": [
    "response = llm(final_prompt, max_tokens=512, stop=[\"</s>\"])\n",
    "print(response[\"choices\"][0][\"text\"].strip())"
   ]
  },
  {
   "cell_type": "code",
   "execution_count": null,
   "id": "86a0bf75",
   "metadata": {},
   "outputs": [],
   "source": []
  }
 ],
 "metadata": {
  "kernelspec": {
   "display_name": "finan_env",
   "language": "python",
   "name": "python3"
  },
  "language_info": {
   "codemirror_mode": {
    "name": "ipython",
    "version": 3
   },
   "file_extension": ".py",
   "mimetype": "text/x-python",
   "name": "python",
   "nbconvert_exporter": "python",
   "pygments_lexer": "ipython3",
   "version": "3.9.21"
  }
 },
 "nbformat": 4,
 "nbformat_minor": 5
}
